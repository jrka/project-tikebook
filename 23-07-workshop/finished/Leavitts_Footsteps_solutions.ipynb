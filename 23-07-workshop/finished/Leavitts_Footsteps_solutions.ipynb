{
 "cells": [
  {
   "cell_type": "markdown",
   "id": "bf02683d",
   "metadata": {},
   "source": [
    "<a id=\"top\"></a>\n",
    "# Leavitt's Footsteps: Solutions\n",
    "***"
   ]
  },
  {
   "cell_type": "markdown",
   "id": "6cff4258",
   "metadata": {},
   "source": [
    "## Imports"
   ]
  },
  {
   "cell_type": "code",
   "execution_count": 1,
   "id": "16bd1f46",
   "metadata": {},
   "outputs": [],
   "source": [
    "%matplotlib inline\n",
    "import matplotlib.pyplot as plt\n",
    "import numpy as np\n",
    "\n",
    "from astropy.io import fits\n",
    "from astropy.table import Table\n",
    "from astropy.wcs import WCS\n",
    "from astropy.coordinates import SkyCoord\n",
    "from astroquery.mast import Observations\n",
    "from astroquery.mast import Catalogs\n",
    "from astroquery.mast import Tesscut\n",
    "\n",
    "import lightkurve as lk\n",
    "\n",
    "Observations.enable_cloud_dataset()"
   ]
  },
  {
   "cell_type": "markdown",
   "id": "9ed659c5",
   "metadata": {},
   "source": [
    "## Exercise 1: \n",
    "\n",
    "Describe the image that you see. Why are there multiple bright regions?"
   ]
  },
  {
   "cell_type": "markdown",
   "id": "43ba7428-289e-42ce-b0ff-480ec767ff1b",
   "metadata": {},
   "source": [
    "**Answer:** Each of the bright regions are individual stars. Each star's light is \"spread out\" over multiple pixels. There are appear to be two main bright stars, and likely two other stars on the right edge and top edge."
   ]
  },
  {
   "cell_type": "markdown",
   "id": "735a7178-dc50-4057-aebb-69cd499bf888",
   "metadata": {
    "tags": []
   },
   "source": [
    "## Exercise 2:\n",
    "What is the name for the star on the left, and what is the name for the star on the right? "
   ]
  },
  {
   "cell_type": "code",
   "execution_count": null,
   "id": "d24fe311-bd85-4e36-b26c-bd622d240487",
   "metadata": {},
   "outputs": [],
   "source": [
    "# First, we need to recreate some of the variables from the original notebook here in the solutions notebook.\n"
   ]
  },
  {
   "cell_type": "markdown",
   "id": "7ba34069-7a17-4d4f-82e0-6b06c3d97f35",
   "metadata": {},
   "source": [
    "## Exercise 3:\n",
    "\n",
    "How many different stars are included in the first light curve you are shown? Which of those stars has the unique variability that drew the attention of your colleague? "
   ]
  },
  {
   "cell_type": "code",
   "execution_count": 1,
   "id": "cdf5b9ab-66ac-4e9f-adaf-a5162036a789",
   "metadata": {
    "tags": []
   },
   "outputs": [],
   "source": [
    "# By default, the aperture mask (shown in white-outlined pixels on the right hand side)\n",
    "# appears to capture at least 3 bright stars. From the GAIA catalog data we first plotted,\n",
    "# there may also be at least three other dim stars captured in the aperture.\n",
    "# It is the one in the middle of the three that is the one with the unique variability.\n",
    "# (The two periods of dimness followed by a rise seem to be systematic to the instrument, \n",
    "# because they appear in every pixel.)"
   ]
  },
  {
   "cell_type": "markdown",
   "id": "36820e21-fa61-40e3-8676-7a38712e1d03",
   "metadata": {
    "tags": []
   },
   "source": [
    "## Exercise 4\n",
    "Describe the shape of the variability of this star in words. Is it symmetric? What is the approximate period?"
   ]
  },
  {
   "cell_type": "code",
   "execution_count": null,
   "id": "ab915bc0-2095-4aff-8812-ec1e441e4902",
   "metadata": {},
   "outputs": [],
   "source": [
    "# It doesn't look symmetric; the flux rises quickly but drops more slowly. \n",
    "# Based on the tick marks, the period appears to be a bit less than a day.\n",
    "# There seem to be about 6 oscillations per 5 days, so perhaps the period is about 0.8 days."
   ]
  },
  {
   "cell_type": "markdown",
   "id": "7ddfddd1-41d9-49c0-91d6-da256191096f",
   "metadata": {},
   "source": [
    "## Exercise 5\n",
    "What if the period were off by 1% in the other direction (period=1.01 x period we found) what would that plot look like?"
   ]
  },
  {
   "cell_type": "code",
   "execution_count": null,
   "id": "e4738d7a-80a1-46bb-bda1-f0ee166ed336",
   "metadata": {},
   "outputs": [],
   "source": [
    "# First, we need to recreate some of the variables from the original notebook here in the solutions notebook.\n"
   ]
  },
  {
   "cell_type": "markdown",
   "id": "25c4ad2a-0031-42e3-9cba-58cdbbdfd0a4",
   "metadata": {},
   "source": [
    "### Exercise 6\n",
    "Write an short email with the update you would give your colleague at this point, summarizing your results thus far. Include at least 2 concerns you still have about the data and/or results, and how someone could address them."
   ]
  },
  {
   "cell_type": "code",
   "execution_count": 3,
   "id": "2aea5f2e-3439-4c58-82a7-2df84b9c66c1",
   "metadata": {
    "tags": []
   },
   "outputs": [],
   "source": [
    "# Answers may vary.\n",
    "# Concerns may include the varying flux levels (e.g. the dots in the periodogram seem timed correctly, but do not align vertically).\n",
    "# This could be solved by background-subtraction of the light curve, as this  may be an instrumental effect."
   ]
  },
  {
   "cell_type": "code",
   "execution_count": null,
   "id": "8acc99e8-9ec3-4cc8-a2bd-6a23904c3a2c",
   "metadata": {},
   "outputs": [],
   "source": []
  }
 ],
 "metadata": {
  "kernelspec": {
   "display_name": "TESS Environment",
   "language": "python",
   "name": "tess"
  },
  "language_info": {
   "codemirror_mode": {
    "name": "ipython",
    "version": 3
   },
   "file_extension": ".py",
   "mimetype": "text/x-python",
   "name": "python",
   "nbconvert_exporter": "python",
   "pygments_lexer": "ipython3",
   "version": "3.8.17"
  }
 },
 "nbformat": 4,
 "nbformat_minor": 5
}
