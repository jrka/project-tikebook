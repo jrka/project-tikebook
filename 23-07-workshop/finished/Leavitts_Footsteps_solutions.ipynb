{
 "cells": [
  {
   "cell_type": "markdown",
   "id": "bf02683d",
   "metadata": {},
   "source": [
    "<a id=\"top\"></a>\n",
    "# Leavitt's Footsteps: Solutions\n",
    "***"
   ]
  },
  {
   "cell_type": "markdown",
   "id": "6cff4258",
   "metadata": {},
   "source": [
    "## Imports"
   ]
  },
  {
   "cell_type": "code",
   "execution_count": 1,
   "id": "16bd1f46",
   "metadata": {},
   "outputs": [],
   "source": [
    "%matplotlib inline\n",
    "import matplotlib.pyplot as plt\n",
    "import numpy as np\n",
    "\n",
    "from astropy.io import fits\n",
    "from astropy.table import Table\n",
    "from astropy.wcs import WCS\n",
    "from astropy.coordinates import SkyCoord\n",
    "from astroquery.mast import Observations\n",
    "from astroquery.mast import Catalogs\n",
    "from astroquery.mast import Tesscut\n",
    "\n",
    "import lightkurve as lk\n",
    "\n",
    "Observations.enable_cloud_dataset()"
   ]
  },
  {
   "cell_type": "markdown",
   "id": "9ed659c5",
   "metadata": {},
   "source": [
    "## Exercise 1: \n",
    "\n",
    "Describe the image that you see. Why are there multiple bright regions?"
   ]
  },
  {
   "cell_type": "markdown",
   "id": "43ba7428-289e-42ce-b0ff-480ec767ff1b",
   "metadata": {},
   "source": [
    "**Answer:** Each of the bright regions are individual stars. Each star's light is \"spread out\" over multiple pixels. There are appear to be two main bright stars, and likely two other stars on the right edge and top edge."
   ]
  },
  {
   "cell_type": "markdown",
   "id": "735a7178-dc50-4057-aebb-69cd499bf888",
   "metadata": {
    "tags": []
   },
   "source": [
    "## Exercise 2:\n",
    "What is the name for the star on the left, and what is the name for the star on the right? "
   ]
  },
  {
   "cell_type": "code",
   "execution_count": null,
   "id": "d24fe311-bd85-4e36-b26c-bd622d240487",
   "metadata": {},
   "outputs": [],
   "source": [
    "# First, we need to recreate some of the variables from the original notebook here in the solutions notebook.\n"
   ]
  }
 ],
 "metadata": {
  "kernelspec": {
   "display_name": "TESS Environment",
   "language": "python",
   "name": "tess"
  },
  "language_info": {
   "codemirror_mode": {
    "name": "ipython",
    "version": 3
   },
   "file_extension": ".py",
   "mimetype": "text/x-python",
   "name": "python",
   "nbconvert_exporter": "python",
   "pygments_lexer": "ipython3",
   "version": "3.8.17"
  }
 },
 "nbformat": 4,
 "nbformat_minor": 5
}
